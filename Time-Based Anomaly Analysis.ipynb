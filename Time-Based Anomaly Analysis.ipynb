{
 "cells": [
  {
   "cell_type": "markdown",
   "id": "d5e2e345-b3d7-4de5-b3c7-90645c412b9f",
   "metadata": {},
   "source": [
    "# Time-Based Anomaly Analysis"
   ]
  },
  {
   "cell_type": "markdown",
   "id": "dd2d27a5-73cf-4ac9-8e3b-e22050708306",
   "metadata": {},
   "source": [
    "This project explored time-based anomaly detection in credit card transactions by analyzing sudden spending spikes within short time frames. \n",
    "\n",
    "This approach is particularly useful for detecting:\n",
    "\n",
    "- Bursts of high-value transactions in quick succession\n",
    "- Unusual spending patterns that might indicate fraud\n",
    "- Temporal clustering of transactions that could be suspicious\n",
    "\n",
    "The method is simple but effective for identifying time-based anomalies where the total amount spent within a short period is unusually high compared to normal spending patterns."
   ]
  },
  {
   "cell_type": "code",
   "execution_count": null,
   "id": "e53cf26f-23d7-4ca4-a691-90b0ec700981",
   "metadata": {},
   "outputs": [],
   "source": [
    "import numpy as np\n",
    "import pandas as pd\n",
    "import matplotlib.pyplot as plt\n",
    "import seaborn as sns\n",
    "from sklearn.preprocessing import StandardScaler\n",
    "from tensorflow.keras.models import Model\n",
    "from tensorflow.keras.layers import Input, Dense\n",
    "from tensorflow.keras.optimizers import Adam"
   ]
  },
  {
   "cell_type": "markdown",
   "id": "91481177-75e3-45ec-abbd-d38c20d373a1",
   "metadata": {},
   "source": [
    "## Load Data"
   ]
  },
  {
   "cell_type": "code",
   "execution_count": null,
   "id": "2f685422-b2cf-455c-8173-9d2526e409f6",
   "metadata": {},
   "outputs": [],
   "source": [
    "df = pd.read_csv('creditcard.csv')"
   ]
  },
  {
   "cell_type": "code",
   "execution_count": null,
   "id": "f00f0445-3b76-4944-943f-10ce3234c568",
   "metadata": {},
   "outputs": [],
   "source": [
    "print(df.head())\n",
    "print(df.describe())"
   ]
  },
  {
   "cell_type": "markdown",
   "id": "183108a0-6179-4ead-8bf8-cdba6d7ddcc8",
   "metadata": {},
   "source": [
    "## Clean Data"
   ]
  },
  {
   "cell_type": "code",
   "execution_count": null,
   "id": "1f6b298e-96b3-4894-abca-5d13a57d4006",
   "metadata": {},
   "outputs": [],
   "source": [
    "# Normalize numerical features\n",
    "\n",
    "scaler = StandardScaler()\n",
    "df_scaled = pd.DataFrame(scaler.fit_transform(df.drop(columns=[\"Class\"])), columns=df.columns[:-1])\n",
    "df_scaled[\"Class\"] = df[\"Class\"].values  # Re-add fraud labels after scaling"
   ]
  },
  {
   "cell_type": "code",
   "execution_count": null,
   "id": "1dcc2202-070b-481b-9ea5-cef395fcb23f",
   "metadata": {},
   "outputs": [],
   "source": [
    "# Ensure 'Class' exists in the dataset\n",
    "if \"Class\" not in df_scaled.columns:\n",
    "    raise KeyError(\"Column 'Class' is missing from the dataset. Check column names!\")\n",
    "\n",
    "# Select only normal transactions (Class = 0)\n",
    "normal_data = df_scaled[df_scaled[\"Class\"] == 0].drop(columns=[\"Class\"])"
   ]
  },
  {
   "cell_type": "markdown",
   "id": "8c4b27ba-6933-4661-b4a6-a0c2762c830a",
   "metadata": {},
   "source": [
    "## Time-Based Anomaly Detection (Detect Spending Spikes)"
   ]
  },
  {
   "cell_type": "markdown",
   "id": "248a9c06-5e5e-4a77-9a55-be16f28307cb",
   "metadata": {},
   "source": [
    "**Time-Based Processing**\n",
    "- Converts the 'Time' column to datetime format (assuming it represents seconds since epoch)\n",
    "- Sorts the entire dataset by time to ensure chronological order"
   ]
  },
  {
   "cell_type": "code",
   "execution_count": null,
   "id": "cd9ecbc2-ca42-4d02-9115-da5778a3a004",
   "metadata": {},
   "outputs": [],
   "source": [
    "# Convert 'Time' column to datetime format if it's in string format\n",
    "df[\"Time\"] = pd.to_datetime(df[\"Time\"], unit='s')  # assuming Time is in seconds since epoch\n",
    "\n",
    "# Sort by the 'Time' column\n",
    "df = df.sort_values(\"Time\")"
   ]
  },
  {
   "cell_type": "markdown",
   "id": "f950945f-a966-4acf-bc64-f7ba3fe165a4",
   "metadata": {},
   "source": [
    "**Rolling Sum Calculation**\n",
    "- Creates a new column 'rolling_sum' that calculates the sum of transaction amounts over a rolling 5-transaction window\n",
    "- This helps identify clusters of high-value transactions occurring close together in time"
   ]
  },
  {
   "cell_type": "code",
   "execution_count": null,
   "id": "5b6ef96f-2656-4c8a-9f65-b0cfeb2a223d",
   "metadata": {},
   "outputs": [],
   "source": [
    "# Rolling sum over a short time window to detect spikes\n",
    "df[\"rolling_sum\"] = df[\"Amount\"].rolling(window=5, min_periods=1).sum()"
   ]
  },
  {
   "cell_type": "markdown",
   "id": "93e643e1-1c35-4d48-ae91-af37c7c5f24b",
   "metadata": {},
   "source": [
    "**Anomaly Detection**\n",
    "- Sets a threshold as the 99th percentile of rolling sums (top 1% of transaction clusters)\n",
    "- Flags any rolling sums that exceed this threshold as potential anomalies ('spending_spike_anomaly')"
   ]
  },
  {
   "cell_type": "code",
   "execution_count": null,
   "id": "62cfe186-39ce-4798-83ed-4e4ce2cbab3d",
   "metadata": {},
   "outputs": [],
   "source": [
    "# Detect anomalies where rolling sum exceeds a threshold\n",
    "threshold = df[\"rolling_sum\"].quantile(0.99)  # Top 1% transactions are flagged\n",
    "df[\"spending_spike_anomaly\"] = (df[\"rolling_sum\"] > threshold).astype(int)"
   ]
  },
  {
   "cell_type": "markdown",
   "id": "93e3424c-a421-4b0f-9211-a7b88ddb4070",
   "metadata": {},
   "source": [
    "## Visualize the results\n",
    "\n",
    "- Plots the rolling sum over time\n",
    "- Highlights the detected anomalies in red\n",
    "- Creates a clear visual representation of spending patterns and spikes"
   ]
  },
  {
   "cell_type": "code",
   "execution_count": null,
   "id": "f4b56dba-d729-4827-ad0a-e273201e5c8e",
   "metadata": {},
   "outputs": [],
   "source": [
    "plt.figure(figsize=(10,6))\n",
    "plt.plot(df[\"Time\"], df[\"rolling_sum\"], label=\"Rolling Sum\")\n",
    "plt.scatter(df[df[\"spending_spike_anomaly\"] == 1][\"Time\"], df[df[\"spending_spike_anomaly\"] == 1][\"rolling_sum\"], color=\"red\", label=\"Anomalies\")\n",
    "plt.xlabel(\"Time\")\n",
    "plt.ylabel(\"Rolling Sum of Transaction Amount\")\n",
    "plt.legend()\n",
    "plt.title(\"Time-based Anomaly Detection: Spending Spikes\")\n",
    "plt.show()"
   ]
  },
  {
   "cell_type": "markdown",
   "id": "00b3f7af-ac24-4876-abd5-e5cf49fd71ce",
   "metadata": {},
   "source": [
    "## Conclusion\n",
    "\n",
    "By calculating a rolling sum of transaction amounts over a 5-transaction window and flagging values exceeding the 99th percentile threshold, we successfully identified unusual spending patterns that could indicate potential fraud or anomalous behavior.\n",
    "\n",
    "### Key Takeaways:\n",
    "- Chronological Analysis Matters – Sorting transactions by time and using rolling calculations helps detect temporal anomalies that might be missed in static fraud detection methods.\n",
    "- Simple Thresholds Can Be Effective – By comparing rolling sums against a high percentile (99%), we captured extreme spending clusters without complex modeling.\n",
    "- Visualization Enhances Detection – The plotted rolling sums with highlighted anomalies provide an intuitive way to monitor transaction patterns over time."
   ]
  }
 ],
 "metadata": {
  "kernelspec": {
   "display_name": "Python 3 (ipykernel)",
   "language": "python",
   "name": "python3"
  },
  "language_info": {
   "codemirror_mode": {
    "name": "ipython",
    "version": 3
   },
   "file_extension": ".py",
   "mimetype": "text/x-python",
   "name": "python",
   "nbconvert_exporter": "python",
   "pygments_lexer": "ipython3",
   "version": "3.12.3"
  }
 },
 "nbformat": 4,
 "nbformat_minor": 5
}
